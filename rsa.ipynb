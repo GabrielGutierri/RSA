{
 "cells": [
  {
   "cell_type": "markdown",
   "metadata": {},
   "source": [
    "Etapa 1 - Escolher p e q (números primos) para o cálculo de N = p.q\n"
   ]
  },
  {
   "cell_type": "code",
   "execution_count": 5,
   "metadata": {},
   "outputs": [
    {
     "name": "stdout",
     "output_type": "stream",
     "text": [
      "942543921998958307170468028062064339100702655545849181355838797919696990695253288972151227131947052959927504700446341715839609767365098556860571000538590574745336966194127777730591260693011812573760949518920255288983272630161863197148301654823071961070856684421302480454371437732088927424783206779876618706689931139175285567061904242294436802758430029006021072532540548891676762065051118933676168125812622256777898925367426032912457804927640495763540260170350552364771988354912576518851204633269502511397674593369723840020284984515590439323228070067590394581847138242603863613811218140884759258168123570265731559560867934773414658161260303629971558205960897681679791753201942537724813332769046361666952471711029599506501906277064333788122637492255671748791265148102481473667575315780800975521769106779491967295442692016477630267702282624383281858560548712380235965671268950691213175946273343899683003785567542279045863409157483717712493267226738881945105252244139095133382530035909664930236841504849666113989080174215553183030273082757648446013155628940258286736577904798039169631264670495144259384114377179592009272082251172005010934399183799122776768221952867972311598177374255937144036962948726027810584625922233088131830677609497\n"
     ]
    }
   ],
   "source": [
    "import random\n",
    "\n",
    "# Lista dos primeiros 1000 primos para filtro rápido de compostos\n",
    "SMALL_PRIMES = [\n",
    "    3, 5, 7, 11, 13, 17, 19, 23, 29, 31, 37, 41, 43, 47, 53, 59, 61, 67, 71, 73, 79, 83, 89, 97,\n",
    "    101, 103, 107, 109, 113, 127, 131, 137, 139, 149, 151, 157, 163, 167, 173, 179, 181, 191, 193, 197, 199,\n",
    "    211, 223, 227, 229, 233, 239, 241, 251, 257, 263, 269, 271, 277, 281, 283, 293, 307, 311, 313, 317, 331,\n",
    "    337, 347, 349, 353, 359, 367, 373, 379, 383, 389, 397, 401, 409, 419, 421, 431, 433, 439, 443, 449, 457,\n",
    "    461, 463, 467, 479, 487, 491, 499, 503, 509, 521, 523, 541, 547, 557, 563, 569, 571, 577, 587, 593, 599,\n",
    "    601, 607, 613, 617, 619, 631, 641, 643, 647, 653, 659, 661, 673, 677, 683, 691, 701, 709, 719, 727, 733,\n",
    "    739, 743, 751, 757, 761, 769, 773, 787, 797, 809, 811, 821, 823, 827, 829, 839, 853, 857, 859, 863, 877,\n",
    "    881, 883, 887, 907, 911, 919, 929, 937, 941, 947, 953, 967, 971, 977, 983, 991, 997, 1009, 1013, 1019, 1021,\n",
    "    1031, 1033, 1039, 1049, 1051, 1061, 1063, 1069, 1087, 1091, 1093, 1097, 1103, 1109, 1117, 1123, 1129, 1151,\n",
    "    1153, 1163, 1171, 1181, 1187, 1193, 1201, 1213, 1217, 1223, 1229, 1231, 1237, 1249, 1259, 1277, 1279, 1283,\n",
    "    1289, 1291, 1297, 1301, 1303, 1307, 1319, 1321, 1327, 1361, 1367, 1373, 1381, 1399, 1409, 1423, 1427, 1429,\n",
    "    1433, 1439, 1447, 1451, 1453, 1459, 1471, 1481, 1483, 1487, 1489, 1493, 1499, 1511, 1523, 1531, 1543, 1549,\n",
    "    1553, 1559, 1567, 1571, 1579, 1583, 1597, 1601, 1607, 1609, 1613, 1619, 1621, 1627, 1637, 1657, 1663, 1667,\n",
    "    1669, 1693, 1697, 1699, 1709, 1721, 1723, 1733, 1741, 1747, 1753, 1759, 1777, 1783, 1787, 1789, 1801, 1811,\n",
    "    1823, 1831, 1847, 1861, 1867, 1871, 1873, 1877, 1879, 1889, 1901, 1907, 1913, 1931, 1933, 1949, 1951, 1973,\n",
    "    1979, 1987, 1993, 1997, 1999, 2003, 2011, 2017, 2027, 2029, 2039, 2053, 2063, 2069, 2081, 2083, 2087, 2089,\n",
    "    2099, 2111, 2113, 2129, 2131, 2137, 2141, 2143, 2153, 2161, 2179, 2203, 2207, 2213, 2221, 2237, 2239, 2243,\n",
    "    2251, 2267, 2269, 2273, 2281, 2287, 2293, 2297, 2309, 2311, 2333, 2339, 2341, 2347, 2351, 2357, 2371, 2377,\n",
    "    2381, 2383, 2389, 2393, 2399, 2411, 2417, 2423, 2437, 2441, 2447, 2459, 2467, 2473, 2477, 2503, 2521, 2531\n",
    "] \n",
    "\n",
    "def generate_random_4096_bit_number():\n",
    "    \"\"\"Gera um número ímpar de 2048 bits que é congruente a 3 mod 4.\"\"\"\n",
    "    num = random.getrandbits(4096) | (1 << 4095) | 1  # Garante 2048 bits e ímpar\n",
    "    return num | 3  # Faz com que seja congruente a 3 mod 4\n",
    "\n",
    "def is_divisible_by_small_primes(n):\n",
    "    \"\"\"Verifica se n é divisível por pequenos primos para um descarte rápido.\"\"\"\n",
    "    for p in SMALL_PRIMES:\n",
    "        if n % p == 0:\n",
    "            return False\n",
    "    return True\n",
    "\n",
    "def miller_rabin(n, k=10):\n",
    "    \"\"\"Teste de primalidade de Miller-Rabin.\"\"\"\n",
    "    if n < 2:\n",
    "        return False\n",
    "    if n in (2, 3):\n",
    "        return True\n",
    "    if n % 2 == 0:\n",
    "        return False\n",
    "\n",
    "    # Representar n - 1 como 2^r * d\n",
    "    r, d = 0, n - 1\n",
    "    while d % 2 == 0:\n",
    "        r += 1\n",
    "        d //= 2\n",
    "\n",
    "    # Teste probabilístico\n",
    "    for _ in range(k):\n",
    "        a = random.randint(2, n - 2)\n",
    "        x = pow(a, d, n)\n",
    "        if x == 1 or x == n - 1:\n",
    "            continue\n",
    "        for _ in range(r - 1):\n",
    "            x = pow(x, 2, n)\n",
    "            if x == n - 1:\n",
    "                break\n",
    "        else:\n",
    "            return False\n",
    "    return True\n",
    "\n",
    "def generate_prime_4096_bit():\n",
    "    \n",
    "    num = generate_random_4096_bit_number()\n",
    "    \n",
    "    while True:\n",
    "        if is_divisible_by_small_primes(num) and miller_rabin(num):\n",
    "            return num\n",
    "        num += 2  # Incrementa por 2 para manter o número ímpar\n",
    "\n",
    "primo1 = generate_prime_4096_bit()\n",
    "print(primo1)"
   ]
  },
  {
   "cell_type": "code",
   "execution_count": null,
   "metadata": {},
   "outputs": [
    {
     "ename": "KeyboardInterrupt",
     "evalue": "",
     "output_type": "error",
     "traceback": [
      "\u001b[1;31m---------------------------------------------------------------------------\u001b[0m",
      "\u001b[1;31mKeyboardInterrupt\u001b[0m                         Traceback (most recent call last)",
      "Cell \u001b[1;32mIn[7], line 128\u001b[0m\n\u001b[0;32m    125\u001b[0m         \u001b[38;5;28mprint\u001b[39m(\u001b[38;5;124m'\u001b[39m\u001b[38;5;132;01m{}\u001b[39;00m\u001b[38;5;124m is prime with bitlength=\u001b[39m\u001b[38;5;132;01m{}\u001b[39;00m\u001b[38;5;124m'\u001b[39m\u001b[38;5;241m.\u001b[39mformat(p, n))\n\u001b[0;32m    127\u001b[0m \u001b[38;5;28;01mif\u001b[39;00m \u001b[38;5;18m__name__\u001b[39m \u001b[38;5;241m==\u001b[39m \u001b[38;5;124m'\u001b[39m\u001b[38;5;124m__main__\u001b[39m\u001b[38;5;124m'\u001b[39m:\n\u001b[1;32m--> 128\u001b[0m     \u001b[43mmain\u001b[49m\u001b[43m(\u001b[49m\u001b[43m)\u001b[49m\n",
      "Cell \u001b[1;32mIn[7], line 123\u001b[0m, in \u001b[0;36mmain\u001b[1;34m()\u001b[0m\n\u001b[0;32m    121\u001b[0m \u001b[38;5;28;01mdef\u001b[39;00m\u001b[38;5;250m \u001b[39m\u001b[38;5;21mmain\u001b[39m():\n\u001b[0;32m    122\u001b[0m     n \u001b[38;5;241m=\u001b[39m \u001b[38;5;241m2048\u001b[39m\n\u001b[1;32m--> 123\u001b[0m     primes \u001b[38;5;241m=\u001b[39m \u001b[43mgenerate_primes\u001b[49m\u001b[43m(\u001b[49m\u001b[43mn\u001b[49m\u001b[38;5;241;43m=\u001b[39;49m\u001b[43mn\u001b[49m\u001b[43m)\u001b[49m\n\u001b[0;32m    124\u001b[0m     \u001b[38;5;28;01mfor\u001b[39;00m p \u001b[38;5;129;01min\u001b[39;00m primes:\n\u001b[0;32m    125\u001b[0m         \u001b[38;5;28mprint\u001b[39m(\u001b[38;5;124m'\u001b[39m\u001b[38;5;132;01m{}\u001b[39;00m\u001b[38;5;124m is prime with bitlength=\u001b[39m\u001b[38;5;132;01m{}\u001b[39;00m\u001b[38;5;124m'\u001b[39m\u001b[38;5;241m.\u001b[39mformat(p, n))\n",
      "Cell \u001b[1;32mIn[7], line 114\u001b[0m, in \u001b[0;36mgenerate_primes\u001b[1;34m(n, k)\u001b[0m\n\u001b[0;32m    111\u001b[0m primes \u001b[38;5;241m=\u001b[39m []\n\u001b[0;32m    113\u001b[0m \u001b[38;5;28;01mwhile\u001b[39;00m k\u001b[38;5;241m>\u001b[39m\u001b[38;5;241m0\u001b[39m:\n\u001b[1;32m--> 114\u001b[0m     \u001b[38;5;28;01mif\u001b[39;00m \u001b[43mmiller_rabin_primality_test\u001b[49m\u001b[43m(\u001b[49m\u001b[43mx\u001b[49m\u001b[43m,\u001b[49m\u001b[43m \u001b[49m\u001b[43ms\u001b[49m\u001b[38;5;241;43m=\u001b[39;49m\u001b[38;5;241;43m7\u001b[39;49m\u001b[43m)\u001b[49m:\n\u001b[0;32m    115\u001b[0m         primes\u001b[38;5;241m.\u001b[39mappend(x)\n\u001b[0;32m    116\u001b[0m         k \u001b[38;5;241m=\u001b[39m k\u001b[38;5;241m-\u001b[39m\u001b[38;5;241m1\u001b[39m\n",
      "Cell \u001b[1;32mIn[7], line 89\u001b[0m, in \u001b[0;36mmiller_rabin_primality_test\u001b[1;34m(p, s)\u001b[0m\n\u001b[0;32m     87\u001b[0m \u001b[38;5;28;01mfor\u001b[39;00m j \u001b[38;5;129;01min\u001b[39;00m \u001b[38;5;28mrange\u001b[39m(s):\n\u001b[0;32m     88\u001b[0m     a \u001b[38;5;241m=\u001b[39m random\u001b[38;5;241m.\u001b[39mrandrange(\u001b[38;5;241m2\u001b[39m, p\u001b[38;5;241m-\u001b[39m\u001b[38;5;241m2\u001b[39m)\n\u001b[1;32m---> 89\u001b[0m     \u001b[38;5;28;01mif\u001b[39;00m \u001b[43mwitness\u001b[49m\u001b[43m(\u001b[49m\u001b[43ma\u001b[49m\u001b[43m)\u001b[49m:\n\u001b[0;32m     90\u001b[0m         \u001b[38;5;28;01mreturn\u001b[39;00m \u001b[38;5;28;01mFalse\u001b[39;00m\n\u001b[0;32m     92\u001b[0m \u001b[38;5;28;01mreturn\u001b[39;00m \u001b[38;5;28;01mTrue\u001b[39;00m\n",
      "Cell \u001b[1;32mIn[7], line 77\u001b[0m, in \u001b[0;36mmiller_rabin_primality_test.<locals>.witness\u001b[1;34m(a)\u001b[0m\n\u001b[0;32m     72\u001b[0m \u001b[38;5;28;01mdef\u001b[39;00m\u001b[38;5;250m \u001b[39m\u001b[38;5;21mwitness\u001b[39m(a):\n\u001b[0;32m     73\u001b[0m \u001b[38;5;250m    \u001b[39m\u001b[38;5;124;03m\"\"\"\u001b[39;00m\n\u001b[0;32m     74\u001b[0m \u001b[38;5;124;03m    Returns: True, if there is a witness that p is not prime.\u001b[39;00m\n\u001b[0;32m     75\u001b[0m \u001b[38;5;124;03m            False, when p might be prime\u001b[39;00m\n\u001b[0;32m     76\u001b[0m \u001b[38;5;124;03m    \"\"\"\u001b[39;00m\n\u001b[1;32m---> 77\u001b[0m     z \u001b[38;5;241m=\u001b[39m \u001b[43msquare_and_multiply\u001b[49m\u001b[43m(\u001b[49m\u001b[43ma\u001b[49m\u001b[43m,\u001b[49m\u001b[43m \u001b[49m\u001b[43mr\u001b[49m\u001b[43m,\u001b[49m\u001b[43m \u001b[49m\u001b[43mp\u001b[49m\u001b[43m)\u001b[49m\n\u001b[0;32m     78\u001b[0m     \u001b[38;5;28;01mif\u001b[39;00m z \u001b[38;5;241m==\u001b[39m \u001b[38;5;241m1\u001b[39m:\n\u001b[0;32m     79\u001b[0m         \u001b[38;5;28;01mreturn\u001b[39;00m \u001b[38;5;28;01mFalse\u001b[39;00m\n",
      "Cell \u001b[1;32mIn[7], line 48\u001b[0m, in \u001b[0;36msquare_and_multiply\u001b[1;34m(x, k, p)\u001b[0m\n\u001b[0;32m     46\u001b[0m r \u001b[38;5;241m=\u001b[39m \u001b[38;5;241m1\u001b[39m\n\u001b[0;32m     47\u001b[0m \u001b[38;5;28;01mfor\u001b[39;00m i \u001b[38;5;129;01min\u001b[39;00m b:\n\u001b[1;32m---> 48\u001b[0m     r \u001b[38;5;241m=\u001b[39m \u001b[43mr\u001b[49m\u001b[38;5;241;43m*\u001b[39;49m\u001b[38;5;241;43m*\u001b[39;49m\u001b[38;5;241;43m2\u001b[39;49m\n\u001b[0;32m     49\u001b[0m     \u001b[38;5;28;01mif\u001b[39;00m i \u001b[38;5;241m==\u001b[39m \u001b[38;5;124m'\u001b[39m\u001b[38;5;124m1\u001b[39m\u001b[38;5;124m'\u001b[39m:\n\u001b[0;32m     50\u001b[0m         r \u001b[38;5;241m=\u001b[39m r \u001b[38;5;241m*\u001b[39m x\n",
      "\u001b[1;31mKeyboardInterrupt\u001b[0m: "
     ]
    }
   ],
   "source": [
    "# Código em Python para gerar dois números primos de 2048 bits sem bibliotecas externas\n",
    "import random\n",
    "\n",
    "# Função para gerar um número aleatório de 2048 bits\n",
    "def generate_random_2048_bit_number():\n",
    "    return random.getrandbits(2048) | (1 << 2047) | 1  # Garante que o número tem 2048 bits e é ímpar\n",
    "\n",
    "# Função para o teste de Miller-Rabin\n",
    "def miller_rabin(n, k=40):  # k é o número de iterações para garantir precisão\n",
    "    if n < 2:\n",
    "        return False\n",
    "    if n in (2, 3):\n",
    "        return True\n",
    "    if n % 2 == 0:\n",
    "        return False\n",
    "\n",
    "    # Escreve n - 1 como 2^r * d\n",
    "    r, d = 0, n - 1\n",
    "    while d % 2 == 0:\n",
    "        r += 1\n",
    "        d //= 2\n",
    "\n",
    "    # Teste de Miller-Rabin\n",
    "    for _ in range(k):\n",
    "        a = random.randint(2, n - 2)\n",
    "        x = pow(a, d, n)\n",
    "        if x == 1 or x == n - 1:\n",
    "            continue\n",
    "        for _ in range(r - 1):\n",
    "            x = pow(x, 2, n)\n",
    "            if x == n - 1:\n",
    "                break\n",
    "        else:\n",
    "            return False\n",
    "    return True\n",
    "\n",
    "# Função para gerar um número primo de 2048 bits\n",
    "def generate_prime_2048_bit():\n",
    "    while True:\n",
    "        num = generate_random_2048_bit_number()\n",
    "        if miller_rabin(num):\n",
    "            return num\n"
   ]
  },
  {
   "cell_type": "markdown",
   "metadata": {},
   "source": [
    "Etapa 2 - Calcular a função totiente (N) = (p-1).(q-1) "
   ]
  },
  {
   "cell_type": "code",
   "execution_count": null,
   "metadata": {},
   "outputs": [],
   "source": [
    "def calcular_totiente():\n",
    "    totiente = (p - 1) * (q - 1)\n",
    "    return totiente"
   ]
  },
  {
   "cell_type": "markdown",
   "metadata": {},
   "source": [
    "Etapa 3 - Escolha 1 < e < (N), tal que e e (N) sejam primos entre si\n"
   ]
  },
  {
   "cell_type": "code",
   "execution_count": 22,
   "metadata": {},
   "outputs": [],
   "source": [
    "def gcd(a, b):\n",
    "    while b != 0:\n",
    "        a, b = b, a % b\n",
    "    return a\n",
    "\n",
    "def escolher_primo(totiente):\n",
    "    while True:\n",
    "        candidate = random.randint(2, totiente - 1)\n",
    "        if gcd(candidate, totiente) == 1:\n",
    "            return candidate\n",
    "\n"
   ]
  },
  {
   "cell_type": "markdown",
   "metadata": {},
   "source": [
    "Etapa 4 - Escolha d tal que e.d mod (N) =1\n"
   ]
  },
  {
   "cell_type": "code",
   "execution_count": 23,
   "metadata": {},
   "outputs": [],
   "source": [
    "def escolha_d(primoComum, totient):\n",
    "    t, new_t = 0, 1\n",
    "    r, new_r = totient, primoComum\n",
    "    while new_r != 0:\n",
    "        quotient = r // new_r\n",
    "        t, new_t = new_t, t - quotient * new_t\n",
    "        r, new_r = new_r, r - quotient * new_r\n",
    "    if r > 1:\n",
    "        raise ValueError(\"O número não possui inverso modular\")\n",
    "    return t % totient\n",
    "\n"
   ]
  },
  {
   "cell_type": "code",
   "execution_count": 26,
   "metadata": {},
   "outputs": [
    {
     "name": "stdout",
     "output_type": "stream",
     "text": [
      "Chave pública (e, N): (42654258440889574842044587017797284408462247865932468245563077258542335937255941141521078217435211760807589798383315095147271587361109742080528404968883209055513499632105554822979147928618667517125920866314473062969030021702439951468859730601529823536862558585023309680935196989374038998023879762711381566239547056921105319302230546934603882442341499754375547709342864983283857575200288197722064060516202618835302791497579915742533105259332342193147893327122242877455133876046408471823661419694182169665614701493135573089722558101611103399213586090203944674191546353634929518541636926536594861360328447977255189337087870666157705742600706636918680499772012413484522542120800355720729662582108337368519728619773214616727003374894444337123859497071841356413977182815737169704868636274150704156331793077744462390444442097875488497171082725161264611983363542804824741116163793947148317937815431797916625006740769004706168588850656257683635932485897594637771665384319578529310703810102010344772412584968818364619376730832845228428322951878142983696083628690934298602849926321423329766995386041836115678798487960938945100927759258076994921916295221508864824261900253489308908693991189609254909417849960737455297313374935494750777879767311, 478191706845876340464499609870718149435554664093773823004685782020206671146184585285457598324148166206405137369988966630316815963653729236572841915552580890150376237396779398477374219331546490999488018639662465023765492532524397924017791635951586778311133334050601403991705434857148757782263522867324354538369198833925207367537016307949552382664631284687037557787203868884041769005899240628239759216197248647542654735401914650278968234939989064925168090382260141869493010196773003413606355386172991667227523531209370039514267172162816692832874942015774266603436647523981450677018295638678515526237109520358210837368646359594431690249915545051475645322040492142149973439948721671135537284023404189609026276961131136037287901249795020337910298286831564001694103885840267412892924869978357713600773676914266963517149964598455137484574868820880470428986811953141603526654743808000917936777558492160486662894536666598614697841117656233873621952496121592292296690254180759230167899303190378331416175694515282705466459798055607210531152313488800286211858672990361114920233348565853994156567981375112108755395149524568805005733250410457473582074177108283144846199843772201181009552216880588984051895521428962030521492607749280765704941268203)\n",
      "Chave privada (d, N): (426486192616531986084486556553199084496868427920218025233308357707977088565952142116346239706335603300124534577864606201158422754965273651761961376790196088083286139162018729734876268557301507792222654103384779027024447403472727613703338787318733006914177333255084920366862473397609153263178385294997808295904051462342813167995587694899843580289531775640702836290667881794308391438995442468422249643491041471510309555569208660019085621018506610994527010794041838735666035375734692842719952460575504484597340790664053243276017423805910320786848033672222372809670722484022454360894987765720728797278478967390763166257095611901444739863784176758438552661855370791459311854501066188929798535942667302996526399833671758815320339588095523480374021793655897398650313779964552556116010393522809123422036393808616556751114125162026840250761575972445787610764603088329406168516861552669709088858921653943847984036330690120428710419134065720012620113601124233899816227576311548300793680328725370633392715953889111475302774319553991622421027638874784712332395864140350823637887766729975645552462631481969960320149019850674434384678194686505363924071642218557419841937911151647344564329990647293801020413024132812268402199133956419873644816467791, 478191706845876340464499609870718149435554664093773823004685782020206671146184585285457598324148166206405137369988966630316815963653729236572841915552580890150376237396779398477374219331546490999488018639662465023765492532524397924017791635951586778311133334050601403991705434857148757782263522867324354538369198833925207367537016307949552382664631284687037557787203868884041769005899240628239759216197248647542654735401914650278968234939989064925168090382260141869493010196773003413606355386172991667227523531209370039514267172162816692832874942015774266603436647523981450677018295638678515526237109520358210837368646359594431690249915545051475645322040492142149973439948721671135537284023404189609026276961131136037287901249795020337910298286831564001694103885840267412892924869978357713600773676914266963517149964598455137484574868820880470428986811953141603526654743808000917936777558492160486662894536666598614697841117656233873621952496121592292296690254180759230167899303190378331416175694515282705466459798055607210531152313488800286211858672990361114920233348565853994156567981375112108755395149524568805005733250410457473582074177108283144846199843772201181009552216880588984051895521428962030521492607749280765704941268203)\n"
     ]
    }
   ],
   "source": [
    "def generate_rsa_keys():\n",
    "    # Gerar dois primos distintos\n",
    "    prime1 = generate_prime_2048_bit()\n",
    "    prime2 = generate_prime_2048_bit()\n",
    "    while prime2 == prime1:\n",
    "        prime2 = generate_prime_2048_bit()\n",
    "\n",
    "    # Calcular N e o totiente\n",
    "    N = prime1 * prime2\n",
    "    totient = (prime1 - 1) * (prime2 - 1)\n",
    "\n",
    "    # Escolher o número coprimo e calcular o inverso modular\n",
    "    e = escolher_primo(totient)\n",
    "    d = escolha_d(e, totient)\n",
    "\n",
    "    # Chaves pública e privada\n",
    "    public_key = (e, N)\n",
    "    private_key = (d, N)\n",
    "\n",
    "    return public_key, private_key\n",
    "\n",
    "# Gerar e exibir as chaves\n",
    "public_key, private_key = generate_rsa_keys()\n",
    "print(\"Chave pública (e, N):\", public_key)\n",
    "print(\"Chave privada (d, N):\", private_key)"
   ]
  },
  {
   "cell_type": "code",
   "execution_count": 27,
   "metadata": {},
   "outputs": [
    {
     "name": "stdout",
     "output_type": "stream",
     "text": [
      "Mensagem criptografada: 463555902489957014141291880295443069456164139767319553234646426619192094473193972882104112886072020588164217901675514914971556754283598100761291335218755235806309494999392444555088240561868421138579962606747265177777934196073341089839324462105180303396315806445615074717052637996861420773691182211342181030311863090676904374038155571657183367078804479497725579602346972206701637101123582915935846883442737699142945610977829660984533477972344691995282039311726084998216445921646332976737283603131553256869472817063062455900033937941438440440916645105609671087329274960348965869865679691320579825351919183359477622824936444257319929610224041135529856213932355847624169898772692301215173112750535747548147579142570374798164313720123549026173795402515319075119918729306211562265205015341406640060081586579027346740947560563525628527810459404475812299128244527046950861482577800379293057521820191828944025823430958773097553376918598702451340474490468032521284094438306440881349243253517161164151224719232110631588042186810885906550237921774435287566968033971930798901674496490954603586440661198179941629917210797016945331161070778188293844936028721781424211757239210131553798627773368227651933018409133181016394712159041476773822676930032\n",
      "Mensagem decriptografada: The information security is of significant importance to ensure the privacy of communications\n"
     ]
    }
   ],
   "source": [
    "def encrypt(message, public_key):\n",
    "    e, N = public_key\n",
    "    message_int = int.from_bytes(message.encode(), 'big')\n",
    "    return pow(message_int, e, N)\n",
    "\n",
    "# Função para decriptografar uma mensagem usando a chave privada\n",
    "def decrypt(ciphertext, private_key):\n",
    "    d, N = private_key\n",
    "    message_int = pow(ciphertext, d, N)\n",
    "    return message_int.to_bytes((message_int.bit_length() + 7) // 8, 'big').decode()\n",
    "\n",
    "message = \"The information security is of significant importance to ensure the privacy of communications\"\n",
    "\n",
    "# Criptografar a mensagem\n",
    "ciphertext = encrypt(message, public_key)\n",
    "print(\"Mensagem criptografada:\", ciphertext)\n",
    "\n",
    "# Decriptografar a mensagem\n",
    "decrypted_message = decrypt(ciphertext, private_key)\n",
    "print(\"Mensagem decriptografada:\", decrypted_message)\n"
   ]
  },
  {
   "cell_type": "markdown",
   "metadata": {},
   "source": [
    "Enviando e criptografando"
   ]
  },
  {
   "cell_type": "code",
   "execution_count": null,
   "metadata": {},
   "outputs": [],
   "source": [
    "def cifra_de_cesar(texto, deslocamento):\n",
    "    resultado = \"\"\n",
    "    for char in texto:\n",
    "        novo_char = chr((ord(char) + deslocamento) % 256)\n",
    "        resultado += novo_char\n",
    "    return resultado\n",
    "\n",
    "# Função para descriptografar usando a cifra de César\n",
    "def descriptografar_cifra_de_cesar(texto, deslocamento):\n",
    "    return cifra_de_cesar(texto, -deslocamento)\n",
    "\n",
    "# Defina o servidor e a porta\n",
    "serverPort = 1300\n",
    "serverSocket = socket(AF_INET, SOCK_STREAM)\n",
    "serverSocket.bind((\"\", serverPort))\n",
    "serverSocket.listen(5)  # Espera até 5 conexões simultâneas\n",
    "\n",
    "print(\"TCP Server aguardando conexão...\\n\")\n",
    "\n",
    "# Aceita a conexão do cliente\n",
    "connectionSocket, addr = serverSocket.accept()\n",
    "\n",
    "# Geração das chaves públicas e privadas RSA\n",
    "server_public_key, server_private_key = generate_rsa_keys()\n",
    "\n",
    "# Envia a chave pública do servidor para o cliente\n",
    "connectionSocket.send(bytes(str(server_public_key), \"utf-8\"))\n",
    "\n",
    "# Recebe a chave pública do cliente\n",
    "client_public_key_data = connectionSocket.recv(65000)\n",
    "client_public_key = eval(client_public_key_data.decode())  # Converte a chave recebida de volta para tupla (e, N)\n",
    "\n",
    "# Recebe a mensagem criptografada do cliente\n",
    "sentence = connectionSocket.recv(65000)\n",
    "received_message = str(sentence, \"utf-8\")\n",
    "print(\"Mensagem recebida do cliente (criptografada): \", received_message)\n",
    "\n",
    "# Descriptografa a mensagem recebida usando a chave privada do servidor\n",
    "decrypted_message = decrypt(int(received_message), server_private_key)\n",
    "print(\"Mensagem DECRIPTOGRAFADA do cliente: \", decrypted_message)\n",
    "\n",
    "# Realiza o processamento da mensagem, neste caso, convertendo para maiúsculas\n",
    "capitalized_sentence = decrypted_message.upper()\n",
    "\n",
    "# Criptografa a resposta com a chave pública do cliente\n",
    "response_encrypted = encrypt(capitalized_sentence, client_public_key)\n",
    "\n",
    "# Envia a resposta criptografada de volta ao cliente\n",
    "connectionSocket.send(bytes(str(response_encrypted), \"utf-8\"))\n",
    "print(\"Resposta enviada de volta ao cliente (criptografada): \", response_encrypted)\n",
    "\n",
    "# Fecha a conexão\n",
    "connectionSocket.close()\n"
   ]
  }
 ],
 "metadata": {
  "kernelspec": {
   "display_name": "Python 3",
   "language": "python",
   "name": "python3"
  },
  "language_info": {
   "codemirror_mode": {
    "name": "ipython",
    "version": 3
   },
   "file_extension": ".py",
   "mimetype": "text/x-python",
   "name": "python",
   "nbconvert_exporter": "python",
   "pygments_lexer": "ipython3",
   "version": "3.13.2"
  }
 },
 "nbformat": 4,
 "nbformat_minor": 2
}
